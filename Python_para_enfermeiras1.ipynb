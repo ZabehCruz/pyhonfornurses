{
 "cells": [
  {
   "cell_type": "markdown",
   "metadata": {},
   "source": [
    "# Python para enfermeiras(os)"
   ]
  },
  {
   "cell_type": "raw",
   "metadata": {},
   "source": [
    "# Nesta série de postagens,vou compartilhar com você o que estou estudando (e por vezes aprendendo) sobre como escrever um programa Python. Esta célula, por exemplo é um comentário."
   ]
  },
  {
   "cell_type": "raw",
   "metadata": {},
   "source": [
    "Este aprendizado acontece com base no Currículo de Produção Digital Raspberry Pi (https://projects.raspberrypi.org/en/projects/about-me)"
   ]
  },
  {
   "cell_type": "raw",
   "metadata": {},
   "source": [
    "Você pode reproduzir meus experimentos no \"notebook\" em trinket.io (https://trinket.io/)"
   ]
  },
  {
   "cell_type": "markdown",
   "metadata": {},
   "source": [
    "### Dizendo Olá!"
   ]
  },
  {
   "cell_type": "raw",
   "metadata": {},
   "source": [
    "A gente começa escrevendo um texto"
   ]
  },
  {
   "cell_type": "code",
   "execution_count": 3,
   "metadata": {},
   "outputs": [
    {
     "name": "stdout",
     "output_type": "stream",
     "text": [
      "Olá!\n"
     ]
    }
   ],
   "source": [
    "print('Olá!')"
   ]
  },
  {
   "cell_type": "raw",
   "metadata": {},
   "source": [
    "Depois cliquei em Executar (Run) e vi que o comando print () imprime tudo que está entre os apóstrofos ''."
   ]
  },
  {
   "cell_type": "raw",
   "metadata": {},
   "source": [
    "Se eu ou você cometer um erro, haverá uma mensagem de erro informando o que deu errado.\n",
    "\n",
    "Veja! Vou excluir a citação final 'ou o parênteses de fechamento) (ou ambos) e ver o que acontece."
   ]
  },
  {
   "cell_type": "code",
   "execution_count": 5,
   "metadata": {},
   "outputs": [
    {
     "ename": "SyntaxError",
     "evalue": "unexpected EOF while parsing (<ipython-input-5-24187625feba>, line 1)",
     "output_type": "error",
     "traceback": [
      "\u001b[1;36m  File \u001b[1;32m\"<ipython-input-5-24187625feba>\"\u001b[1;36m, line \u001b[1;32m1\u001b[0m\n\u001b[1;33m    print('Olá'\u001b[0m\n\u001b[1;37m               ^\u001b[0m\n\u001b[1;31mSyntaxError\u001b[0m\u001b[1;31m:\u001b[0m unexpected EOF while parsing\n"
     ]
    }
   ],
   "source": [
    "print('Olá'"
   ]
  },
  {
   "cell_type": "raw",
   "metadata": {},
   "source": [
    "Experimente! Mas, agora vou adicionar a citação ou o parênteses novamente e clicar em Executar (run) para garantir que o projeto funcione novamente."
   ]
  },
  {
   "cell_type": "code",
   "execution_count": 6,
   "metadata": {},
   "outputs": [
    {
     "name": "stdout",
     "output_type": "stream",
     "text": [
      "Olá\n"
     ]
    }
   ],
   "source": [
    "print('Olá')"
   ]
  },
  {
   "cell_type": "markdown",
   "metadata": {},
   "source": [
    "## Desafio: o que você está pensando?"
   ]
  },
  {
   "cell_type": "raw",
   "metadata": {},
   "source": [
    "Altere o código que acabei de escrever para imprimir algo mais interessante sobre você!"
   ]
  },
  {
   "cell_type": "code",
   "execution_count": 8,
   "metadata": {},
   "outputs": [
    {
     "name": "stdout",
     "output_type": "stream",
     "text": [
      "Olá! Sou Isabel Cruz \n",
      " Feliz em ter você aprendendo comigo\n"
     ]
    }
   ],
   "source": [
    "print('Olá! Sou Isabel Cruz \\n Feliz em ter você aprendendo comigo')"
   ]
  },
  {
   "cell_type": "markdown",
   "metadata": {},
   "source": [
    "## O ano de 2025 "
   ]
  },
  {
   "cell_type": "raw",
   "metadata": {},
   "source": [
    "Posso também pode fazer cálculos e imprimir números. Vou descobrir quantos anos terá meu filho no ano de 2025!"
   ]
  },
  {
   "cell_type": "raw",
   "metadata": {},
   "source": [
    "Vou adicionar este código ao programa:"
   ]
  },
  {
   "cell_type": "code",
   "execution_count": 9,
   "metadata": {},
   "outputs": [
    {
     "name": "stdout",
     "output_type": "stream",
     "text": [
      "41\n"
     ]
    }
   ],
   "source": [
    "print(2025 - 1984)"
   ]
  },
  {
   "cell_type": "raw",
   "metadata": {},
   "source": [
    "Aprendi que não preciso colocar apóstrofo (ou aspas) em torno dos números."
   ]
  },
  {
   "cell_type": "raw",
   "metadata": {},
   "source": [
    "No que se refere à enfermagem, você e eu podemos melhorar o programa usando input () para perguntar ao(à) paciente sua idade e armazenar este dado em uma variável chamada nascimento (ano)."
   ]
  },
  {
   "cell_type": "code",
   "execution_count": 13,
   "metadata": {},
   "outputs": [
    {
     "name": "stdout",
     "output_type": "stream",
     "text": [
      "Em que ano você nasceu?1984\n"
     ]
    },
    {
     "ename": "TypeError",
     "evalue": "unsupported operand type(s) for -: 'int' and 'str'",
     "output_type": "error",
     "traceback": [
      "\u001b[1;31m---------------------------------------------------------------------------\u001b[0m",
      "\u001b[1;31mTypeError\u001b[0m                                 Traceback (most recent call last)",
      "\u001b[1;32m<ipython-input-13-cb4e16dea100>\u001b[0m in \u001b[0;36m<module>\u001b[1;34m\u001b[0m\n\u001b[0;32m      1\u001b[0m \u001b[0mnascimento\u001b[0m \u001b[1;33m=\u001b[0m \u001b[0minput\u001b[0m\u001b[1;33m(\u001b[0m\u001b[1;34m\"Em que ano você nasceu?\"\u001b[0m\u001b[1;33m)\u001b[0m\u001b[1;33m\u001b[0m\u001b[1;33m\u001b[0m\u001b[0m\n\u001b[1;32m----> 2\u001b[1;33m \u001b[0mprint\u001b[0m\u001b[1;33m(\u001b[0m\u001b[1;36m2025\u001b[0m \u001b[1;33m-\u001b[0m \u001b[0mnascimento\u001b[0m\u001b[1;33m)\u001b[0m\u001b[1;33m\u001b[0m\u001b[1;33m\u001b[0m\u001b[0m\n\u001b[0m",
      "\u001b[1;31mTypeError\u001b[0m: unsupported operand type(s) for -: 'int' and 'str'"
     ]
    }
   ],
   "source": [
    "nascimento = input(\"Em que ano você nasceu?\")\n",
    "print(2025 - nascimento)"
   ]
  },
  {
   "cell_type": "raw",
   "metadata": {},
   "source": [
    "Digitei a idade de meu filho e deu erro. Em programação já aprendi que obrigatoriamente tenho que aprender com o erro!"
   ]
  },
  {
   "cell_type": "raw",
   "metadata": {},
   "source": [
    "Neste caso, aprendi que qualquer coisa digitada em um programa é texto (1984 para Python é texto) e precisa ser convertida em um número (1984!!)."
   ]
  },
  {
   "cell_type": "raw",
   "metadata": {},
   "source": [
    "Vou poder usar int () para converter o texto em um inteiro. Um inteiro é um número inteiro."
   ]
  },
  {
   "cell_type": "code",
   "execution_count": 11,
   "metadata": {},
   "outputs": [
    {
     "name": "stdout",
     "output_type": "stream",
     "text": [
      "Em que ano você nasceu?1984\n",
      "41\n"
     ]
    }
   ],
   "source": [
    "nascimento = input(\"Em que ano você nasceu?\")\n",
    "nascimento = int(nascimento)\n",
    "print(2025 - nascimento)"
   ]
  },
  {
   "cell_type": "code",
   "execution_count": 12,
   "metadata": {},
   "outputs": [
    {
     "name": "stdout",
     "output_type": "stream",
     "text": [
      "Em que ano você nasceu?1984\n",
      "41\n"
     ]
    }
   ],
   "source": [
    "# Maravilha!!! Mas, pode ficar melhor porque um programa é um passo a passo que torna compreensível a tarefa\n",
    "nascimento = input(\"Em que ano você nasceu?\")\n",
    "nascimento = int(nascimento)\n",
    "idade = 2025 - nascimento\n",
    "print(idade)"
   ]
  },
  {
   "cell_type": "code",
   "execution_count": 15,
   "metadata": {},
   "outputs": [
    {
     "name": "stdout",
     "output_type": "stream",
     "text": [
      "Em que ano você nasceu?1984\n",
      "Paciente terá 41 anos em 2025\n"
     ]
    }
   ],
   "source": [
    "# Muito bom, mas sempre pode ficar melhor\n",
    "nascimento = input(\"Em que ano você nasceu?\")\n",
    "nascimento = int(nascimento)\n",
    "idade = 2025 - nascimento\n",
    "print('Paciente terá', idade, 'anos em 2025')"
   ]
  },
  {
   "cell_type": "raw",
   "metadata": {},
   "source": [
    "Uau!!!! Imagine este recurso no seu histórico de enfermagem, agilizando a entrevista, por exemplo!!"
   ]
  },
  {
   "cell_type": "markdown",
   "metadata": {},
   "source": [
    "## Desafio: cálculo de medicamento"
   ]
  },
  {
   "cell_type": "raw",
   "metadata": {},
   "source": [
    "Na sua Unidade de Saúde, a prescrição padrão do medicamento Saudix é de 50mg/Kg/dia. Escrever um programa para conforme o peso do(a) paciente, calcular a quantidade a ser disponibilizada por dia no gaveteiro individual. O Sr. José pesa 70 Kg, quanto ele deverá receber por dia? "
   ]
  },
  {
   "cell_type": "code",
   "execution_count": 17,
   "metadata": {},
   "outputs": [
    {
     "name": "stdout",
     "output_type": "stream",
     "text": [
      "qual peso da pessoa?70\n",
      "Paciente receberá 3500 mg por dia\n"
     ]
    }
   ],
   "source": [
    "peso = input(\"qual peso da pessoa?\")\n",
    "peso = int(peso)\n",
    "med_Saudix = 50 * peso\n",
    "print('Paciente receberá', med_Saudix, 'mg por dia')"
   ]
  },
  {
   "cell_type": "code",
   "execution_count": 20,
   "metadata": {},
   "outputs": [
    {
     "name": "stdout",
     "output_type": "stream",
     "text": [
      "Esquema do medicamento\n",
      "manhã |     |     |     |     |     |     |     |     \n",
      "tarde |     |     |     |     |     |     |     |     \n",
      "noite |     |     |     |     |     |     |     |     \n"
     ]
    }
   ],
   "source": [
    "# Maravilha! Mas, o desafio continua... com o desenho da prescrição para o ensino do autocuidado \n",
    "print('Esquema do medicamento')\n",
    "print('manhã', \"|     \" * 8)\n",
    "print('tarde', \"|     \" * 8)\n",
    "print('noite', \"|     \" * 8)"
   ]
  },
  {
   "cell_type": "markdown",
   "metadata": {},
   "source": [
    "Uau! É só o começo... \n",
    "Até a próxima postagem"
   ]
  }
 ],
 "metadata": {
  "kernelspec": {
   "display_name": "Python 3",
   "language": "python",
   "name": "python3"
  },
  "language_info": {
   "codemirror_mode": {
    "name": "ipython",
    "version": 3
   },
   "file_extension": ".py",
   "mimetype": "text/x-python",
   "name": "python",
   "nbconvert_exporter": "python",
   "pygments_lexer": "ipython3",
   "version": "3.8.5"
  }
 },
 "nbformat": 4,
 "nbformat_minor": 4
}
