{
 "cells": [
  {
   "cell_type": "markdown",
   "metadata": {},
   "source": [
    "# Python para enfermeiras(os) (2)"
   ]
  },
  {
   "cell_type": "raw",
   "metadata": {},
   "source": [
    "Neste segundo número da série, compartilho com você o que estou estudando (e por vezes aprendendo) sobre como escrever um programa Python. Este aprendizado acontece com base no Currículo de Produção Digital Raspberry Pi (https://projects.raspberrypi.org/en/projects/about-me) e Python for biologists (https://pythonforbiologists.com/printing-and-manipulating-text). Você pode reproduzir meus experimentos no \"notebook\" em trinket.io (https://trinket.io/)"
   ]
  },
  {
   "cell_type": "raw",
   "metadata": {},
   "source": [
    "Então, o que torna o aprendizado de uma linguagem de programação, como Python, relevante para a(o) enfermeira(o) que na maior parte do tempo lida com texto em vez de números? A resposta é que o processo de enfermagem (histórico, diagnóstico, prescrição e evolução) gera dados sobre paciente, família, comunidade e população. Estes dados tornam-se informações descritas pela taxonomia de enfermagem, principalmente. Cada diagnóstico descrito na CIPE®, por exemplo, pode ser entendido como uma variável sobre o fenômeno do(a) paciente que é da competência da(o) enfermeira diagnosticar e tratar."
   ]
  },
  {
   "cell_type": "raw",
   "metadata": {},
   "source": [
    "Número, texto... Aprendi um jargão importante - a palavra string. \n",
    "Strings podem ser definidos como coleções de sequencias de caracteres entre aspas ou apóstrofos. Os quais compõem a cadeia (string) em uma determinada ordem, da esquerda para a direita. Por exemplo:"
   ]
  },
  {
   "cell_type": "code",
   "execution_count": 1,
   "metadata": {},
   "outputs": [
    {
     "name": "stdout",
     "output_type": "stream",
     "text": [
      "Risco de dignidade humana comprometida \n",
      " é um diagnóstico de enfermagem\n"
     ]
    }
   ],
   "source": [
    "print('Risco de dignidade humana comprometida \\n é um diagnóstico de enfermagem')"
   ]
  },
  {
   "cell_type": "markdown",
   "metadata": {},
   "source": [
    "### Aspas ou apóstrofos são importantes"
   ]
  },
  {
   "cell_type": "raw",
   "metadata": {},
   "source": [
    "Em Python, entretanto, as strings estão sempre entre aspas ou apóstrofos. Só assim o programa sabe a diferença instruções (como o nome da função) e os dados (o que queremos imprimir). A instrução a seguir exibe exatamente da mesma maneira que a anterior:"
   ]
  },
  {
   "cell_type": "code",
   "execution_count": 3,
   "metadata": {},
   "outputs": [
    {
     "name": "stdout",
     "output_type": "stream",
     "text": [
      "Risco de dignidade humana comprometida \n",
      " é um diagnóstico de enfermagem\n"
     ]
    }
   ],
   "source": [
    "print(\"Risco de dignidade humana comprometida \\n é um diagnóstico de enfermagem\")"
   ]
  },
  {
   "cell_type": "markdown",
   "metadata": {},
   "source": [
    "### Função"
   ]
  },
  {
   "cell_type": "code",
   "execution_count": 4,
   "metadata": {},
   "outputs": [
    {
     "name": "stdout",
     "output_type": "stream",
     "text": [
      "\n"
     ]
    }
   ],
   "source": [
    "print() #é o nome de uma função. Esta frase é um comentário que você lê, mas não o computador"
   ]
  },
  {
   "cell_type": "raw",
   "metadata": {},
   "source": [
    "A função print() diz ao Python, em termos vagos, o que eu queria fazer. Observe acima que - neste caso - como não coloquei nada entre os parênteses, uma cadeia que não possui nenhum caractere ou string vazio, ao executar \"imprimiu\" um vazio na saída . \n",
    "O nome de uma função, isto é, um comando ou uma sequência de comandos, é sempre seguido por parênteses.\n",
    "A função precisa de dados para poder executar a sua tarefa. Esses dados, frequentemente chamados de argumentos ou parâmetros reais, são passados à função por mim ou por você."
   ]
  },
  {
   "cell_type": "code",
   "execution_count": 5,
   "metadata": {},
   "outputs": [
    {
     "name": "stdout",
     "output_type": "stream",
     "text": [
      "Comentários são úteis e também parte do seu código\n"
     ]
    }
   ],
   "source": [
    "# Para incluir um comentário neste código-fonte, começo a linha com um símbolo (#)\n",
    "print('Comentários são úteis e também parte do seu código')"
   ]
  },
  {
   "cell_type": "markdown",
   "metadata": {},
   "source": [
    "### programação centrada na pessoa: a função input()"
   ]
  },
  {
   "cell_type": "code",
   "execution_count": null,
   "metadata": {},
   "outputs": [],
   "source": [
    "'''Uma variável contém um valor. Com a função input a variável(um container) \n",
    "se torna especialmente útil aqui porque temos que salvar o registro do(a) usuário(a) em algum lugar.'''\n",
    "\n",
    "nome = input(\"Qual o seu nome?\")\n",
    "print(\"Sou\" + nome)"
   ]
  },
  {
   "cell_type": "raw",
   "metadata": {},
   "source": [
    "A função input() é a que nos dá possibilidade de coletar dados diretamente do(a) paciente, por exemplo. Fichas cadastrais, seções do hist´rico de enfermagem, enfim, quantas possíveis aplicações para a função input()."
   ]
  },
  {
   "cell_type": "markdown",
   "metadata": {},
   "source": [
    "### Desafio - Qual o diagnóstico? "
   ]
  },
  {
   "cell_type": "raw",
   "metadata": {},
   "source": [
    "Se for preciso, revise a lição anterior em \n",
    "CRUZ, Isabel CF da. Python para enfermeiras (1). Boletim NEPAE-NESEN, [S.l.], v. 18, n. 1, jan. 2021. ISSN 1676-4893. Disponível em: <http://www.jsncare.uff.br/index.php/bnn/article/view/3391/868>. Acesso em: 16 jan. 2021.\n"
   ]
  },
  {
   "cell_type": "code",
   "execution_count": 1,
   "metadata": {},
   "outputs": [
    {
     "name": "stdout",
     "output_type": "stream",
     "text": [
      "Tratamento desumano percebido? Sim ou não?sim\n",
      "Risco de Dignidade Humana Comprometida\n"
     ]
    }
   ],
   "source": [
    "# Estou entrevistando uma pessa para colher dados sobre a experiência vivida\n",
    "\n",
    "Barreira = input(\"Tratamento desumano percebido? Sim ou não?\")\n",
    "sim = True\n",
    "não = False\n",
    "if sim:\n",
    "    print('Risco de Dignidade Humana Comprometida')"
   ]
  },
  {
   "cell_type": "raw",
   "metadata": {},
   "source": [
    "Uau!!!!! Arrisquei representar meu raciocínio... busquei na imensa web as generosas contribuições de parças e consegui. Experimente também!!!\n",
    "Paralelamente, se quiser saber mais sobre o diagnóstico Risco de Dignidade Humana Comprometida, sugiro a leitura\n",
    "Felicialle  Pereira da Silva; Emilly Anne Cardoso Moreno de Lima; Luciane Lima; Ana Márcia Cavalcanti et al. DIAGNÓSTICOS DE ENFERMAGEM DE RISCO NA POPULAÇÃO DE RUA. In: ANAIS DO ENCONTRO INTERNACIONAL DO PROCESSO DE ENFERMAGEM, 2017, . Anais eletrônicos... Campinas, Galoá, 2017. Disponível em: <https://proceedings.science/enipe/papers/diagnosticos-de-enfermagem-de-risco-na-populacao-de-rua> Acesso em: 17 jan. 2021."
   ]
  },
  {
   "cell_type": "markdown",
   "metadata": {},
   "source": [
    "### Nem tudo são flores: mensagens de erro e debugging "
   ]
  },
  {
   "cell_type": "raw",
   "metadata": {},
   "source": [
    "Uma linguagem de programação não é uma linguagem natural porque segue regras rígidas. Até o momento, e na linguagem Python, quando eu ou você quebra uma regra, o computador não está (ainda) preparado para adivinhar o que eu ou você queria. Regra quebrada? Surge uma mensagem de erro.\n",
    "E como erramos!!! E só avançamos na programação se (1) aceitarmos o erro (2) analisarmos o erro e (3) buscarmos a regra adequada & (4) aplicarmos a regra. Este passo a passo serve para aprender a programar e serve para a vida."
   ]
  },
  {
   "cell_type": "code",
   "execution_count": 2,
   "metadata": {},
   "outputs": [
    {
     "ename": "SyntaxError",
     "evalue": "invalid syntax (<ipython-input-2-ec54c6369ff9>, line 2)",
     "output_type": "error",
     "traceback": [
      "\u001b[1;36m  File \u001b[1;32m\"<ipython-input-2-ec54c6369ff9>\"\u001b[1;36m, line \u001b[1;32m2\u001b[0m\n\u001b[1;33m    print(Olá, mundo!)\u001b[0m\n\u001b[1;37m                    ^\u001b[0m\n\u001b[1;31mSyntaxError\u001b[0m\u001b[1;31m:\u001b[0m invalid syntax\n"
     ]
    }
   ],
   "source": [
    "#  qual mensagem de erro aparece quando esquecemos as aspas?\n",
    "print(Olá, mundo!)"
   ]
  },
  {
   "cell_type": "markdown",
   "metadata": {},
   "source": [
    "Ao analisar a saída, noto que o erro ocorre na segunda linha do arquivo (2). A primeira linha tem meu comentário.\n",
    "O melhor palpite do Python na localização do erro é um pouco antes dos parênteses de fechamento (^). Dependendo do tipo de erro, isso pode estar um pouco errado, então não confie muito nisso!\n",
    "\n",
    "O tipo de erro é **SyntaxError**, ou seja o Python não consegue entender o código porque quebrou as regras de alguma forma (neste caso, a regra de que as strings devem estar entre aspas ou apóstrofos). "
   ]
  },
  {
   "cell_type": "code",
   "execution_count": 3,
   "metadata": {},
   "outputs": [
    {
     "ename": "NameError",
     "evalue": "name 'prin' is not defined",
     "output_type": "error",
     "traceback": [
      "\u001b[1;31m---------------------------------------------------------------------------\u001b[0m",
      "\u001b[1;31mNameError\u001b[0m                                 Traceback (most recent call last)",
      "\u001b[1;32m<ipython-input-3-279bcbdce8f6>\u001b[0m in \u001b[0;36m<module>\u001b[1;34m\u001b[0m\n\u001b[0;32m      1\u001b[0m \u001b[1;31m# qual mensagem de erro aparece quando erramos na grafia?\u001b[0m\u001b[1;33m\u001b[0m\u001b[1;33m\u001b[0m\u001b[1;33m\u001b[0m\u001b[0m\n\u001b[1;32m----> 2\u001b[1;33m \u001b[0mprin\u001b[0m\u001b[1;33m(\u001b[0m\u001b[1;34m'Olá, mundo!'\u001b[0m\u001b[1;33m)\u001b[0m\u001b[1;33m\u001b[0m\u001b[1;33m\u001b[0m\u001b[0m\n\u001b[0m",
      "\u001b[1;31mNameError\u001b[0m: name 'prin' is not defined"
     ]
    }
   ],
   "source": [
    "# qual mensagem de erro aparece quando erramos na grafia?\n",
    "prin('Olá, mundo!')"
   ]
  },
  {
   "cell_type": "markdown",
   "metadata": {},
   "source": [
    "Aponta um tipo diferente de erro - um **NameError** - e a mensagem de erro é um pouco mais detalhada:\n",
    "Desta vez, o Python nos mostra toda a linha ----> (2) e a mensagem de erro mostra qual palavra o Python não entende, sendo mais fácil de corrigir."
   ]
  },
  {
   "cell_type": "code",
   "execution_count": 6,
   "metadata": {},
   "outputs": [
    {
     "ename": "SyntaxError",
     "evalue": "EOL while scanning string literal (<ipython-input-6-d733eefc9910>, line 4)",
     "output_type": "error",
     "traceback": [
      "\u001b[1;36m  File \u001b[1;32m\"<ipython-input-6-d733eefc9910>\"\u001b[1;36m, line \u001b[1;32m4\u001b[0m\n\u001b[1;33m    print('Olá,\u001b[0m\n\u001b[1;37m               ^\u001b[0m\n\u001b[1;31mSyntaxError\u001b[0m\u001b[1;31m:\u001b[0m EOL while scanning string literal\n"
     ]
    }
   ],
   "source": [
    "# eu quero isso: Olá,\n",
    "#                mundo!\n",
    "# qual mensagem de erro aparece se eu quebrar o argumento em 2 linhas?\n",
    "print('Olá,\n",
    "      mundo!')"
   ]
  },
  {
   "cell_type": "markdown",
   "metadata": {},
   "source": [
    "O Python encontra o erro quando chega ao final da primeira linha do código (4). As 3 primeiras linhas são meus comentários.\n",
    "A mensagem de erro é precisa ser *decodificada*. O sinal (^) aponta o provável problema. **EOL significa End Of Line**, e **string literal** significa uma string entre aspas. O computador me retorna que *Comecei a ler uma string entre aspas e cheguei ao final da linha antes de chegar às aspas de fechamento. Aí, parei!*."
   ]
  },
  {
   "cell_type": "code",
   "execution_count": 7,
   "metadata": {},
   "outputs": [
    {
     "name": "stdout",
     "output_type": "stream",
     "text": [
      "Olá,\n",
      "mundo!\n"
     ]
    }
   ],
   "source": [
    "# uma quebra de linha se faz com \\n\n",
    "print('Olá,\\nmundo!')"
   ]
  },
  {
   "cell_type": "raw",
   "metadata": {},
   "source": [
    "Vamos avançando na série Python para Enfermeiras(os). A primeira postagem está aqui:\n",
    "CRUZ, Isabel CF da. Python para enfermeiras (1). Boletim NEPAE-NESEN, [S.l.], v. 18, n. 1, jan. 2021. ISSN 1676-4893. Disponível em: <http://www.jsncare.uff.br/index.php/bnn/article/view/3391/868>. Acesso em: 17 jan. 2021.\n",
    "\t\n",
    "Até a próxima postagem!"
   ]
  },
  {
   "cell_type": "code",
   "execution_count": null,
   "metadata": {},
   "outputs": [],
   "source": []
  }
 ],
 "metadata": {
  "kernelspec": {
   "display_name": "Python 3",
   "language": "python",
   "name": "python3"
  },
  "language_info": {
   "codemirror_mode": {
    "name": "ipython",
    "version": 3
   },
   "file_extension": ".py",
   "mimetype": "text/x-python",
   "name": "python",
   "nbconvert_exporter": "python",
   "pygments_lexer": "ipython3",
   "version": "3.8.5"
  }
 },
 "nbformat": 4,
 "nbformat_minor": 4
}
